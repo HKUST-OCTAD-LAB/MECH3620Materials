{
 "cells": [
  {
   "cell_type": "markdown",
   "metadata": {},
   "source": [
    "# **PyXDSM**"
   ]
  },
  {
   "cell_type": "markdown",
   "metadata": {},
   "source": [
    "Libraries"
   ]
  },
  {
   "cell_type": "code",
   "execution_count": 21,
   "metadata": {
    "ExecuteTime": {
     "end_time": "2021-02-18T09:22:03.546500Z",
     "start_time": "2021-02-18T09:22:03.466988Z"
    }
   },
   "outputs": [],
   "source": [
    "from pyxdsm import XDSM\n",
    "import importlib\n",
    "from IPython.display import IFrame\n",
    "# importlib.reload(XDSM)"
   ]
  },
  {
   "cell_type": "markdown",
   "metadata": {},
   "source": [
    "## MECH3620 - Aircraft Design"
   ]
  },
  {
   "cell_type": "code",
   "execution_count": 10,
   "metadata": {
    "ExecuteTime": {
     "end_time": "2020-12-17T15:25:05.077962Z",
     "start_time": "2020-12-17T15:25:03.129749Z"
    }
   },
   "outputs": [
    {
     "data": {
      "text/html": [
       "\n",
       "        <iframe\n",
       "            width=\"800\"\n",
       "            height=\"600\"\n",
       "            src=\"DesignFramework.pdf\"\n",
       "            frameborder=\"0\"\n",
       "            allowfullscreen\n",
       "        ></iframe>\n",
       "        "
      ],
      "text/plain": [
       "<IPython.lib.display.IFrame at 0x1662750a7c0>"
      ]
     },
     "execution_count": 10,
     "metadata": {},
     "output_type": "execute_result"
    }
   ],
   "source": [
    "from pyxdsm import XDSM\n",
    "\n",
    "opt = 'Optimization'\n",
    "lpopt = 'LP_Optimization'\n",
    "solver = 'MDA'\n",
    "ecomp = 'Analysis'\n",
    "icomp = 'ImplicitAnalysis'\n",
    "group = 'Metamodel'\n",
    "func = 'Function'\n",
    "\n",
    "x = XDSM.XDSM()\n",
    "x.add_system('TbW', opt, (r'T/W', r'\\text{Optimization}'))\n",
    "x.add_system('MTOW', icomp, (r'\\text{MTOW}', r'\\text{Estimation}'))\n",
    "x.add_system('tail', ecomp, (r'\\text{Tail}', r'\\text{Sizing}'))\n",
    "x.add_system('empty', ecomp, (r'\\text{Empty}', r'\\text{Weight}'))\n",
    "x.add_system('drag', ecomp, (r'\\text{Drag}', r'\\text{Polar}'))\n",
    "x.add_system('fuel', ecomp, (r'\\text{Fuel}', r'\\text{Weight}'))\n",
    "x.add_system('WbS', ecomp, (r'\\text{Wing}', r'\\text{Loading}'))\n",
    "\n",
    "x.connect('MTOW', 'WbS', r'W_0')\n",
    "x.connect('MTOW', 'TbW', r'W_0')\n",
    "x.connect('MTOW', 'empty', r'(W_0)_i')\n",
    "x.connect('empty', 'MTOW', r'W_e/W_0')\n",
    "x.connect('tail', 'empty', r'S_{HT}, S_{VT}')\n",
    "x.connect('TbW', 'empty', r'(T_0)_i')\n",
    "x.connect('fuel', 'MTOW', r'W_f/W_0')\n",
    "x.connect('drag', 'TbW', (r'C_{D_0}, K, C_{L_{\\text{max}}}'))\n",
    "x.connect('WbS', 'TbW', r'W_0/S_{\\text{ref}}')\n",
    "x.connect('drag', 'fuel', (r'C_{D_0}, K, C_{L_{\\text{max}}}'))\n",
    "\n",
    "x.add_input('drag', r'c_f, S_{\\text{wet}}/S_{\\text{ref}}, AR,e')\n",
    "x.add_input('tail',  (r'S_{\\text{ref}}, L_{\\text{fus}}, D_{\\text{fus}}'))\n",
    "x.add_input('fuel', r'C, R, E, \\rho')\n",
    "x.add_input('WbS', r'S_{\\text{ref}}')\n",
    "x.add_input('empty', (r'S_{\\text{ref}}, L_{\\text{fus}}, D_{\\text{fus}}', r'c_f, S_{\\text{wet}}/S_{\\text{ref}}, AR,e'))\n",
    "x.add_input('TbW', (r's_{FL}, K_S, G, M'))\n",
    "\n",
    "x.add_output('MTOW', 'W_0^*')\n",
    "x.add_output('TbW', '(T/W)^*')\n",
    "\n",
    "x.write('../tex_src/DesignFramework', cleanup=False)\n",
    "IFrame(\"DesignFramework.pdf\", width=800, height=600)"
   ]
  },
  {
   "cell_type": "markdown",
   "metadata": {},
   "source": [
    "## Tutorial — Initial Weight Estimation\n"
   ]
  },
  {
   "cell_type": "code",
   "execution_count": 23,
   "metadata": {
    "ExecuteTime": {
     "end_time": "2021-02-03T14:34:01.056315Z",
     "start_time": "2021-02-03T14:33:59.550699Z"
    }
   },
   "outputs": [
    {
     "data": {
      "text/html": [
       "\n",
       "        <iframe\n",
       "            width=\"800\"\n",
       "            height=\"420\"\n",
       "            src=\"XDSMTakeoffEmpty.pdf\"\n",
       "            frameborder=\"0\"\n",
       "            allowfullscreen\n",
       "        ></iframe>\n",
       "        "
      ],
      "text/plain": [
       "<IPython.lib.display.IFrame at 0x166369e6730>"
      ]
     },
     "execution_count": 23,
     "metadata": {},
     "output_type": "execute_result"
    }
   ],
   "source": [
    "from pyxdsm import XDSM\n",
    "\n",
    "opt = 'Optimization'\n",
    "lpopt = 'LP_Optimization'\n",
    "solver = 'MDA'\n",
    "ecomp = 'Analysis'\n",
    "icomp = 'ImplicitAnalysis'\n",
    "group = 'Metamodel'\n",
    "func = 'Function'\n",
    "\n",
    "x = XDSM.XDSM()\n",
    "\n",
    "# x.add_system('MTOW', icomp, (r'\\text{MTOW}', r'\\text{Estimation}'))\n",
    "# x.add_system('Empty Weight', ecomp, (r'\\text{Empty}', r'\\text{Weight}'))\n",
    "# x.add_system('tail', ecomp, (r'\\text{Tail}', r'\\text{Sizing}'))\n",
    "\n",
    "x.add_system('mission', ecomp, (r'\\text{Mission Segment}', r'\\text{Fuel Fraction}'), stack=True, faded = True)\n",
    "x.add_system('ff', ecomp, (r'\\text{Fuel-Weight}', r'\\text{Estimation}'), faded = True)\n",
    "x.add_system('mtow', icomp, (r'\\text{Takeoff Weight }', r'\\text{Estimation}'))#, faded = True)\n",
    "x.add_system('empty', ecomp, (r'\\text{Empty Weight}', r'\\text{Estimation}'))# faded = True)\n",
    "\n",
    "x.connect('mtow', 'empty', r'W_0')\n",
    "x.connect('mission', 'ff', r'FFs')\n",
    "x.connect('ff', 'mtow', r'W_f/W_0')\n",
    "x.connect('empty', 'mtow', r'W_e/W_0')\n",
    "\n",
    "x.add_process(['mission', 'ff', 'mtow', 'empty', 'mtow'])\n",
    "\n",
    "x.add_input('mission', r'\\text{Mission Data}')\n",
    "x.add_input('mtow', r'W_\\text{crew}, W_\\text{payload}, W_{0_\\text{init}}')\n",
    "x.add_output('mtow', r'W_0^*')\n",
    "\n",
    "x.write('../tex_src/XDSMTakeoffEmpty', cleanup=False)\n",
    "IFrame(\"XDSMTakeoffEmpty.pdf\", width=800, height=420)"
   ]
  },
  {
   "cell_type": "code",
   "execution_count": null,
   "metadata": {},
   "outputs": [],
   "source": []
  }
 ],
 "metadata": {
  "kernelspec": {
   "display_name": "Python 3",
   "language": "python",
   "name": "python3"
  },
  "language_info": {
   "codemirror_mode": {
    "name": "ipython",
    "version": 3
   },
   "file_extension": ".py",
   "mimetype": "text/x-python",
   "name": "python",
   "nbconvert_exporter": "python",
   "pygments_lexer": "ipython3",
   "version": "3.9.0"
  },
  "latex_envs": {
   "LaTeX_envs_menu_present": true,
   "autoclose": false,
   "autocomplete": true,
   "bibliofile": "biblio.bib",
   "cite_by": "apalike",
   "current_citInitial": 1,
   "eqLabelWithNumbers": true,
   "eqNumInitial": 1,
   "hotkeys": {
    "equation": "Ctrl-E",
    "itemize": "Ctrl-I"
   },
   "labels_anchors": false,
   "latex_user_defs": false,
   "report_style_numbering": false,
   "user_envs_cfg": false
  },
  "varInspector": {
   "cols": {
    "lenName": 16,
    "lenType": 16,
    "lenVar": 40
   },
   "kernels_config": {
    "python": {
     "delete_cmd_postfix": "",
     "delete_cmd_prefix": "del ",
     "library": "var_list.py",
     "varRefreshCmd": "print(var_dic_list())"
    },
    "r": {
     "delete_cmd_postfix": ") ",
     "delete_cmd_prefix": "rm(",
     "library": "var_list.r",
     "varRefreshCmd": "cat(var_dic_list()) "
    }
   },
   "types_to_exclude": [
    "module",
    "function",
    "builtin_function_or_method",
    "instance",
    "_Feature"
   ],
   "window_display": false
  }
 },
 "nbformat": 4,
 "nbformat_minor": 2
}
